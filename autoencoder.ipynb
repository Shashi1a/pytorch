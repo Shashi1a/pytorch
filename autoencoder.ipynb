{
 "cells": [
  {
   "cell_type": "markdown",
   "metadata": {},
   "source": [
    "### Autoencoder \n",
    " "
   ]
  },
  {
   "cell_type": "markdown",
   "metadata": {},
   "source": [
    "#### Linear autoencoder\n",
    "* The layers that are used have no activation function\n",
    "\n",
    "#### Non-linear autoencoder\n",
    "* The layers that are used have non-linear activation function"
   ]
  },
  {
   "cell_type": "code",
   "execution_count": 10,
   "metadata": {},
   "outputs": [],
   "source": [
    "import numpy as np\n",
    "import pandas as pd\n",
    "import torch \n",
    "import torch.nn as nn\n",
    "import torch.nn.functional as F\n",
    "import torch.optim as optim\n",
    "from torch.utils.data import Dataset,DataLoader\n",
    "import seaborn as sns\n",
    "import matplotlib.pyplot as plt\n",
    "from sklearn.model_selection import train_test_split\n"
   ]
  },
  {
   "cell_type": "markdown",
   "metadata": {},
   "source": [
    "**Loading data file**"
   ]
  },
  {
   "cell_type": "code",
   "execution_count": 2,
   "metadata": {},
   "outputs": [
    {
     "name": "stdout",
     "output_type": "stream",
     "text": [
      "(80000, 577)\n"
     ]
    }
   ],
   "source": [
    "data_f = pd.read_csv(\n",
    "    '~/ml_J1-J2_supervised/all_phase/af/augumented_dataL24.csv',index_col=[0])\n",
    "\n",
    "\n",
    "print(data_f.shape)\n"
   ]
  },
  {
   "cell_type": "code",
   "execution_count": 3,
   "metadata": {},
   "outputs": [
    {
     "data": {
      "text/html": [
       "<div>\n",
       "<style scoped>\n",
       "    .dataframe tbody tr th:only-of-type {\n",
       "        vertical-align: middle;\n",
       "    }\n",
       "\n",
       "    .dataframe tbody tr th {\n",
       "        vertical-align: top;\n",
       "    }\n",
       "\n",
       "    .dataframe thead th {\n",
       "        text-align: right;\n",
       "    }\n",
       "</style>\n",
       "<table border=\"1\" class=\"dataframe\">\n",
       "  <thead>\n",
       "    <tr style=\"text-align: right;\">\n",
       "      <th></th>\n",
       "      <th>spin0</th>\n",
       "      <th>spin1</th>\n",
       "      <th>spin2</th>\n",
       "      <th>spin3</th>\n",
       "      <th>spin4</th>\n",
       "      <th>spin5</th>\n",
       "      <th>spin6</th>\n",
       "      <th>spin7</th>\n",
       "      <th>spin8</th>\n",
       "      <th>spin9</th>\n",
       "      <th>...</th>\n",
       "      <th>spin567</th>\n",
       "      <th>spin568</th>\n",
       "      <th>spin569</th>\n",
       "      <th>spin570</th>\n",
       "      <th>spin571</th>\n",
       "      <th>spin572</th>\n",
       "      <th>spin573</th>\n",
       "      <th>spin574</th>\n",
       "      <th>spin575</th>\n",
       "      <th>label</th>\n",
       "    </tr>\n",
       "  </thead>\n",
       "  <tbody>\n",
       "    <tr>\n",
       "      <th>0</th>\n",
       "      <td>-1</td>\n",
       "      <td>1</td>\n",
       "      <td>-1</td>\n",
       "      <td>1</td>\n",
       "      <td>-1</td>\n",
       "      <td>1</td>\n",
       "      <td>-1</td>\n",
       "      <td>1</td>\n",
       "      <td>-1</td>\n",
       "      <td>1</td>\n",
       "      <td>...</td>\n",
       "      <td>-1</td>\n",
       "      <td>1</td>\n",
       "      <td>-1</td>\n",
       "      <td>1</td>\n",
       "      <td>-1</td>\n",
       "      <td>1</td>\n",
       "      <td>-1</td>\n",
       "      <td>1</td>\n",
       "      <td>-1</td>\n",
       "      <td>0</td>\n",
       "    </tr>\n",
       "    <tr>\n",
       "      <th>1</th>\n",
       "      <td>1</td>\n",
       "      <td>-1</td>\n",
       "      <td>1</td>\n",
       "      <td>-1</td>\n",
       "      <td>1</td>\n",
       "      <td>-1</td>\n",
       "      <td>1</td>\n",
       "      <td>-1</td>\n",
       "      <td>1</td>\n",
       "      <td>-1</td>\n",
       "      <td>...</td>\n",
       "      <td>1</td>\n",
       "      <td>-1</td>\n",
       "      <td>1</td>\n",
       "      <td>-1</td>\n",
       "      <td>1</td>\n",
       "      <td>-1</td>\n",
       "      <td>1</td>\n",
       "      <td>-1</td>\n",
       "      <td>1</td>\n",
       "      <td>0</td>\n",
       "    </tr>\n",
       "    <tr>\n",
       "      <th>2</th>\n",
       "      <td>-1</td>\n",
       "      <td>1</td>\n",
       "      <td>-1</td>\n",
       "      <td>1</td>\n",
       "      <td>-1</td>\n",
       "      <td>1</td>\n",
       "      <td>-1</td>\n",
       "      <td>1</td>\n",
       "      <td>-1</td>\n",
       "      <td>1</td>\n",
       "      <td>...</td>\n",
       "      <td>-1</td>\n",
       "      <td>1</td>\n",
       "      <td>-1</td>\n",
       "      <td>1</td>\n",
       "      <td>-1</td>\n",
       "      <td>1</td>\n",
       "      <td>-1</td>\n",
       "      <td>1</td>\n",
       "      <td>-1</td>\n",
       "      <td>0</td>\n",
       "    </tr>\n",
       "    <tr>\n",
       "      <th>3</th>\n",
       "      <td>1</td>\n",
       "      <td>-1</td>\n",
       "      <td>1</td>\n",
       "      <td>-1</td>\n",
       "      <td>1</td>\n",
       "      <td>-1</td>\n",
       "      <td>1</td>\n",
       "      <td>-1</td>\n",
       "      <td>1</td>\n",
       "      <td>-1</td>\n",
       "      <td>...</td>\n",
       "      <td>1</td>\n",
       "      <td>-1</td>\n",
       "      <td>1</td>\n",
       "      <td>-1</td>\n",
       "      <td>1</td>\n",
       "      <td>-1</td>\n",
       "      <td>1</td>\n",
       "      <td>-1</td>\n",
       "      <td>1</td>\n",
       "      <td>0</td>\n",
       "    </tr>\n",
       "    <tr>\n",
       "      <th>4</th>\n",
       "      <td>-1</td>\n",
       "      <td>1</td>\n",
       "      <td>-1</td>\n",
       "      <td>1</td>\n",
       "      <td>-1</td>\n",
       "      <td>1</td>\n",
       "      <td>-1</td>\n",
       "      <td>1</td>\n",
       "      <td>-1</td>\n",
       "      <td>1</td>\n",
       "      <td>...</td>\n",
       "      <td>-1</td>\n",
       "      <td>1</td>\n",
       "      <td>-1</td>\n",
       "      <td>1</td>\n",
       "      <td>-1</td>\n",
       "      <td>1</td>\n",
       "      <td>-1</td>\n",
       "      <td>1</td>\n",
       "      <td>-1</td>\n",
       "      <td>0</td>\n",
       "    </tr>\n",
       "  </tbody>\n",
       "</table>\n",
       "<p>5 rows × 577 columns</p>\n",
       "</div>"
      ],
      "text/plain": [
       "   spin0  spin1  spin2  spin3  spin4  spin5  spin6  spin7  spin8  spin9  ...  \\\n",
       "0     -1      1     -1      1     -1      1     -1      1     -1      1  ...   \n",
       "1      1     -1      1     -1      1     -1      1     -1      1     -1  ...   \n",
       "2     -1      1     -1      1     -1      1     -1      1     -1      1  ...   \n",
       "3      1     -1      1     -1      1     -1      1     -1      1     -1  ...   \n",
       "4     -1      1     -1      1     -1      1     -1      1     -1      1  ...   \n",
       "\n",
       "   spin567  spin568  spin569  spin570  spin571  spin572  spin573  spin574  \\\n",
       "0       -1        1       -1        1       -1        1       -1        1   \n",
       "1        1       -1        1       -1        1       -1        1       -1   \n",
       "2       -1        1       -1        1       -1        1       -1        1   \n",
       "3        1       -1        1       -1        1       -1        1       -1   \n",
       "4       -1        1       -1        1       -1        1       -1        1   \n",
       "\n",
       "   spin575  label  \n",
       "0       -1      0  \n",
       "1        1      0  \n",
       "2       -1      0  \n",
       "3        1      0  \n",
       "4       -1      0  \n",
       "\n",
       "[5 rows x 577 columns]"
      ]
     },
     "execution_count": 3,
     "metadata": {},
     "output_type": "execute_result"
    }
   ],
   "source": [
    "data_f.head()"
   ]
  },
  {
   "cell_type": "code",
   "execution_count": 21,
   "metadata": {},
   "outputs": [],
   "source": [
    "X_train,X_test,y_train,y_test = train_test_split(data_f.iloc[:,:-1]\\\n",
    "    ,data_f.iloc[:,-1:],test_size=0.2,stratify=data_f.iloc[:,-1:],random_state=42)"
   ]
  },
  {
   "cell_type": "code",
   "execution_count": 27,
   "metadata": {},
   "outputs": [],
   "source": [
    "train_combined = pd.concat([X_train,y_train],axis=1)\n",
    "test_combined = pd.concat([X_test,y_test],axis=1)\n"
   ]
  },
  {
   "cell_type": "markdown",
   "metadata": {},
   "source": [
    "**Set the cpu as the device**"
   ]
  },
  {
   "cell_type": "code",
   "execution_count": 4,
   "metadata": {},
   "outputs": [],
   "source": [
    "device = torch.device('cuda' if torch.cuda.is_available() else 'cpu')"
   ]
  },
  {
   "cell_type": "markdown",
   "metadata": {},
   "source": [
    "**Load the data using class dataset**"
   ]
  },
  {
   "cell_type": "code",
   "execution_count": 29,
   "metadata": {},
   "outputs": [],
   "source": [
    "## class to load the data\n",
    "## x_data has all the features\n",
    "## y_data has data labels\n",
    "\n",
    "class LoadData(Dataset):\n",
    "    def __init__(self,data,L,device=device):\n",
    "        self.L=L\n",
    "        self.x_data = torch.tensor(data.iloc[:,:int(self.L**2)].values,dtype=torch.float32).to(device=device)\n",
    "        self.y_data = torch.tensor(data.iloc[:,int(self.L**2):].values,dtype=torch.long).to(device=device)\n",
    "\n",
    "    ### length of the dataset\n",
    "    ### function one has to define for using custom dataset classes\n",
    "    def __len__(self):\n",
    "        return len(self.y_data)\n",
    "\n",
    "    ### get the image and label during the training\n",
    "    def __getitem__(self,idx):\n",
    "        if torch.is_tensor(idx):\n",
    "            idx = idx.to_list()\n",
    "        image = self.x_data[idx,:]\n",
    "        label = self.y_data[idx]\n",
    "        return {'data':image,'label':label}\n",
    "\n",
    "\n",
    "\n"
   ]
  },
  {
   "cell_type": "markdown",
   "metadata": {},
   "source": [
    "**Model definition for both linear and non-linear autoencoder**"
   ]
  },
  {
   "cell_type": "code",
   "execution_count": 47,
   "metadata": {},
   "outputs": [],
   "source": [
    "### object blue print for the linear autoencoder model (no activation function)\n",
    "class linearModel(nn.Module):\n",
    "\n",
    "    ## initializing the object\n",
    "    def __init__(self,input_size,latent_dim):\n",
    "        ## inheriting init of the nn.Module class\n",
    "        super(linearModel,self).__init__()\n",
    "        \n",
    "        ## encoder network\n",
    "        self.encoder1 = nn.Linear(in_features = input_size,out_features=256)\n",
    "        self.encoder2 = nn.Linear(in_features=256,out_features=128)\n",
    "        self.encoder3 = nn.Linear(in_features=128,out_features=64)\n",
    "        self.encoder4 = nn.Linear(in_features=64,out_features=32)\n",
    "        self.encoder5 = nn.Linear(in_features=32,out_features=latent_dim)\n",
    "\n",
    "        ## decoder network\n",
    "        self.decoder1 = nn.Linear(in_features=latent_dim,out_features=32)\n",
    "        self.decoder2 = nn.Linear(in_features=32, out_features=64)\n",
    "        self.decoder3 = nn.Linear(in_features=64, out_features=128)\n",
    "        self.decoder4 = nn.Linear(in_features=128, out_features=256)\n",
    "        self.decoder5 = nn.Linear(in_features=256, out_features=input_size)\n",
    "\n",
    "    ### function to perform the forward pass\n",
    "    def forward(self,x):\n",
    "\n",
    "        ## passing input through the encoder network\n",
    "        x = self.encoder1(x)\n",
    "        x = self.encoder2(x)\n",
    "        x = self.encoder3(x)\n",
    "        x = self.encoder4(x)\n",
    "        x = self.encoder5(x)\n",
    "\n",
    "        ## passing the latent representation obtained through the encoder \n",
    "        ## network to the decoder network\n",
    "        x = self.decoder1(x)\n",
    "        x = self.decoder2(x)\n",
    "        x = self.decoder3(x)\n",
    "        x = self.decoder4(x)\n",
    "        x = self.decoder5(x)\n",
    "\n",
    "        return x\n",
    "\n",
    "\n",
    "### definitin of class for the non-linear autoencoder(relu activation function)\n",
    "class nonLinearmodel(nn.Module):\n",
    "    ## initializing the object\n",
    "    def __init__(self,input_size,latent_dim):\n",
    "        super(nonLinearmodel,self).__init__()\n",
    "        ## encoder network\n",
    "        self.encd1 = nn.Linear(in_features=input_size,out_features=256)\n",
    "        self.encd2 = nn.Linear(in_features=256,out_features=128)\n",
    "        self.encd3 = nn.Linear(in_features=128,out_features=64)\n",
    "        self.encd4 = nn.Linear(in_features=64,out_features=32)\n",
    "        self.encd5 = nn.Linear(in_features=32,out_features=latent_dim)\n",
    "\n",
    "\n",
    "        ## decoder network\n",
    "        self.decd1 = nn.Linear(in_features=latent_dim,out_features=32)\n",
    "        self.decd2 = nn.Linear(in_features=32,out_features=64)\n",
    "        self.decd3 = nn.Linear(in_features=64,out_features=128)\n",
    "        self.decd4 = nn.Linear(in_features=128,out_features=256)\n",
    "        self.decd5 = nn.Linear(in_features=256,out_features=input_size)\n",
    "\n",
    "\n",
    "    ## defining function for the forward pass\n",
    "    def forward(self,x):\n",
    "        ## input flowing from the encoder layers\n",
    "        x = torch.tanh(self.encd1(x))\n",
    "        x = torch.tanh(self.encd2(x))\n",
    "        x = torch.tanh(self.encd3(x))\n",
    "        x = torch.tanh(self.encd4(x))\n",
    "        x = torch.tanh(self.encd5(x))\n",
    "\n",
    "        ## compressed representation flowing through the decoding layers\n",
    "        x = torch.tanh(self.decd1(x))\n",
    "        x = torch.tanh(self.decd2(x))\n",
    "        x = torch.tanh(self.decd3(x))\n",
    "        x = torch.tanh(self.decd4(x))\n",
    "        x = torch.tanh(self.decd5(x))\n",
    "        return x"
   ]
  },
  {
   "cell_type": "markdown",
   "metadata": {},
   "source": [
    "**Parameters for the problem**"
   ]
  },
  {
   "cell_type": "code",
   "execution_count": 48,
   "metadata": {},
   "outputs": [],
   "source": [
    "L = 24\n",
    "input_size = int(L* L)\n",
    "latent_dim = 24\n",
    "learning_rate = 0.001\n",
    "batch_size = 800\n",
    "num_epochs = 1"
   ]
  },
  {
   "cell_type": "markdown",
   "metadata": {},
   "source": [
    "**Data loader object**"
   ]
  },
  {
   "cell_type": "code",
   "execution_count": 49,
   "metadata": {},
   "outputs": [
    {
     "data": {
      "text/plain": [
       "64000"
      ]
     },
     "execution_count": 49,
     "metadata": {},
     "output_type": "execute_result"
    }
   ],
   "source": [
    "len(train_dataloader.dataset)"
   ]
  },
  {
   "cell_type": "code",
   "execution_count": 50,
   "metadata": {},
   "outputs": [],
   "source": [
    "## creating an object of class dataload for both training data and test data\n",
    "train_data = LoadData(train_combined,L,device)\n",
    "test_data = LoadData(test_combined, L, device)\n",
    "\n",
    "## create a data iterator for training data and testing data\n",
    "train_dataloader = DataLoader(train_data,batch_size=batch_size,shuffle=True)    \n",
    "test_dataloader = DataLoader(test_data,batch_size=batch_size,shuffle=True)    "
   ]
  },
  {
   "cell_type": "markdown",
   "metadata": {},
   "source": [
    "**Function that trains the model and saves the loss as well as the model predictions**"
   ]
  },
  {
   "cell_type": "code",
   "execution_count": 63,
   "metadata": {},
   "outputs": [],
   "source": [
    "### program to train the model and calculate the training error \n",
    "def modeltraining(model,data_loader,loss_fn,optimizer):\n",
    "    size = len(data_loader.dataset)\n",
    "    model.train()\n",
    "    train_loss = []\n",
    "    train_step = []\n",
    "    for batch_idx,batch in enumerate(data_loader):\n",
    "        data = batch['data'].to(device=device)\n",
    "       \n",
    "        ## forward pass\n",
    "        preds = model(data)\n",
    "\n",
    "        ## calculate the loss\n",
    "        loss = loss_fn(preds,data)\n",
    "\n",
    "        ## backpropagation setting up the gradient to zero\n",
    "        optimizer.zero_grad()\n",
    "        loss.backward()\n",
    "        optimizer.step()\n",
    "\n",
    "        train_loss.append(loss.item())\n",
    "        train_step.append(batch_idx)\n",
    "    return {'step':np.array(train_step),'loss':np.array(train_loss)}\n",
    "\n",
    "### program to test the model and claculate the testing error\n",
    "def modeltest(model,dataloader,loss_fn,epochs,num_epochs,f1name,f2name):\n",
    "    size=len(dataloader.dataset)\n",
    "    num_batches = len(dataloader)\n",
    "    model.eval()\n",
    "    test_loss = []\n",
    "    with torch.no_grad():\n",
    "        for batch_idx,batch in enumerate(dataloader):\n",
    "            data = batch['data'].to(device)\n",
    "            pred = model(data)\n",
    "            loss = loss_fn(pred,data).item()\n",
    "\n",
    "            test_loss.append(loss)\n",
    "            if ((epochs == num_epochs-1) & (batch_idx==num_batches-1)):\n",
    "                print(\"last one\")\n",
    "                np.save(f1name,data.numpy())\n",
    "                np.save(f2name,pred.numpy())\n",
    "    return test_loss    \n"
   ]
  },
  {
   "cell_type": "markdown",
   "metadata": {},
   "source": [
    "**Using a linear autoencoder**"
   ]
  },
  {
   "cell_type": "code",
   "execution_count": 64,
   "metadata": {},
   "outputs": [
    {
     "name": "stdout",
     "output_type": "stream",
     "text": [
      "linearModel(\n",
      "  (encoder1): Linear(in_features=576, out_features=256, bias=True)\n",
      "  (encoder2): Linear(in_features=256, out_features=128, bias=True)\n",
      "  (encoder3): Linear(in_features=128, out_features=64, bias=True)\n",
      "  (encoder4): Linear(in_features=64, out_features=32, bias=True)\n",
      "  (encoder5): Linear(in_features=32, out_features=24, bias=True)\n",
      "  (decoder1): Linear(in_features=24, out_features=32, bias=True)\n",
      "  (decoder2): Linear(in_features=32, out_features=64, bias=True)\n",
      "  (decoder3): Linear(in_features=64, out_features=128, bias=True)\n",
      "  (decoder4): Linear(in_features=128, out_features=256, bias=True)\n",
      "  (decoder5): Linear(in_features=256, out_features=576, bias=True)\n",
      ")\n",
      "last one\n"
     ]
    }
   ],
   "source": [
    "## instantiating the linear autoencoder\n",
    "lnrencd = linearModel(input_size,latent_dim)\n",
    "print(lnrencd)\n",
    "\n",
    "\n",
    "## setting up the mean-squared error\n",
    "mse = nn.MSELoss()\n",
    "\n",
    "## setting up the optimizer\n",
    "optimizer = optim.Adam(lnrencd.parameters(),lr=learning_rate)\n",
    "\n",
    "## training the and testing the linear autoencoder\n",
    "tr_loss={}\n",
    "tst_loss={}\n",
    "for t in range(num_epochs):\n",
    "    rtr = modeltraining(lnrencd, train_dataloader, mse,optimizer)\n",
    "    tr_loss[t]=rtr['loss']\n",
    "    tst_loss[t] = modeltest(lnrencd, test_dataloader,mse,t,num_epochs,'lnrencdata','lnrencpred')\n",
    "    \n",
    "\n"
   ]
  },
  {
   "cell_type": "markdown",
   "metadata": {},
   "source": [
    "**Using a non-linear auto encoder**"
   ]
  },
  {
   "cell_type": "code",
   "execution_count": 66,
   "metadata": {},
   "outputs": [
    {
     "name": "stdout",
     "output_type": "stream",
     "text": [
      "nonLinearmodel(\n",
      "  (encd1): Linear(in_features=576, out_features=256, bias=True)\n",
      "  (encd2): Linear(in_features=256, out_features=128, bias=True)\n",
      "  (encd3): Linear(in_features=128, out_features=64, bias=True)\n",
      "  (encd4): Linear(in_features=64, out_features=32, bias=True)\n",
      "  (encd5): Linear(in_features=32, out_features=24, bias=True)\n",
      "  (decd1): Linear(in_features=24, out_features=32, bias=True)\n",
      "  (decd2): Linear(in_features=32, out_features=64, bias=True)\n",
      "  (decd3): Linear(in_features=64, out_features=128, bias=True)\n",
      "  (decd4): Linear(in_features=128, out_features=256, bias=True)\n",
      "  (decd5): Linear(in_features=256, out_features=576, bias=True)\n",
      ")\n",
      "last one\n"
     ]
    }
   ],
   "source": [
    "## instantiate non-linear autoencoder\n",
    "nonlnrmodel  = nonLinearmodel(input_size, latent_dim)\n",
    "\n",
    "## setting up the mean-squared error\n",
    "mse = nn.MSELoss()\n",
    "\n",
    "## setting up the optimizer\n",
    "optimizer = optim.Adam(nonlnrmodel.parameters(), lr=learning_rate)\n",
    "\n",
    "print(nonlnrmodel)\n",
    "\n",
    "### training the model\n",
    "tr_loss = {}\n",
    "tst_loss = {}\n",
    "for t in range(num_epochs):\n",
    "    rtr = modeltraining(nonlnrmodel, train_dataloader, mse, optimizer)\n",
    "    tr_loss[t] = rtr['loss']\n",
    "    tst_loss[t] = modeltest(nonlnrmodel, test_dataloader, mse,t,num_epochs,'nlnrencdata','nlnrencpred')\n"
   ]
  },
  {
   "cell_type": "code",
   "execution_count": 224,
   "metadata": {},
   "outputs": [
    {
     "data": {
      "image/png": "[encoded data removed]",
      "text/plain": [
       "<Figure size 432x288 with 1 Axes>"
      ]
     },
     "metadata": {
      "needs_background": "light"
     },
     "output_type": "display_data"
    }
   ],
   "source": [
    "f = plt.figure()\n",
    "sns.lineplot(x='step',y='loss',data=df_lnr,label='Linear Encoder')\n",
    "sns.lineplot(x='step', y='loss', data=df_nlnr,label = 'None linear Encoder')\n",
    "plt.xlabel('Training steps')\n",
    "plt.ylabel('MSE loss')\n",
    "plt.show()"
   ]
  },
  {
   "cell_type": "code",
   "execution_count": 225,
   "metadata": {},
   "outputs": [],
   "source": [
    "lnr=np.load('lnrmodel.npy')\n",
    "nlnr=np.load('nlnrmodel.npy')"
   ]
  },
  {
   "cell_type": "code",
   "execution_count": 228,
   "metadata": {},
   "outputs": [
    {
     "data": {
      "image/png": "[encoded data removed]",
      "text/plain": [
       "<Figure size 432x288 with 2 Axes>"
      ]
     },
     "metadata": {
      "needs_background": "light"
     },
     "output_type": "display_data"
    }
   ],
   "source": [
    "plt.imshow(lnr[101,:].reshape(L,L),origin='lower',cmap='afmhot')\n",
    "plt.colorbar()\n",
    "plt.show()"
   ]
  },
  {
   "cell_type": "code",
   "execution_count": 229,
   "metadata": {},
   "outputs": [
    {
     "data": {
      "image/png": "[encoded data removed]",
      "text/plain": [
       "<Figure size 432x288 with 2 Axes>"
      ]
     },
     "metadata": {
      "needs_background": "light"
     },
     "output_type": "display_data"
    }
   ],
   "source": [
    "plt.imshow(nlnr[101, :].reshape(L, L), origin='lower', cmap='afmhot')\n",
    "plt.colorbar()\n",
    "plt.show()\n"
   ]
  },
  {
   "cell_type": "code",
   "execution_count": 236,
   "metadata": {},
   "outputs": [
    {
     "data": {
      "image/png": "[encoded data removed]",
      "text/plain": [
       "<Figure size 288x400 with 2 Axes>"
      ]
     },
     "metadata": {
      "needs_background": "light"
     },
     "output_type": "display_data"
    }
   ],
   "source": [
    "plt.matshow(nlnr,cmap='afmhot',origin='lower')\n",
    "plt.colorbar()\n",
    "plt.show()"
   ]
  },
  {
   "cell_type": "code",
   "execution_count": 231,
   "metadata": {},
   "outputs": [
    {
     "data": {
      "image/png": "[encoded data removed]",
      "text/plain": [
       "<Figure size 288x400 with 2 Axes>"
      ]
     },
     "metadata": {
      "needs_background": "light"
     },
     "output_type": "display_data"
    }
   ],
   "source": [
    "plt.matshow(lnr, cmap='afmhot', origin='lower')\n",
    "plt.colorbar()\n",
    "plt.show()\n"
   ]
  },
  {
   "cell_type": "code",
   "execution_count": 12,
   "metadata": {},
   "outputs": [],
   "source": [
    "x=[1,2,3,4,5]"
   ]
  },
  {
   "cell_type": "code",
   "execution_count": 15,
   "metadata": {},
   "outputs": [
    {
     "data": {
      "text/plain": [
       "[1, 2, 3, 4]"
      ]
     },
     "execution_count": 15,
     "metadata": {},
     "output_type": "execute_result"
    }
   ],
   "source": [
    "x[:-1]"
   ]
  },
  {
   "cell_type": "code",
   "execution_count": 17,
   "metadata": {},
   "outputs": [
    {
     "data": {
      "text/html": [
       "<div>\n",
       "<style scoped>\n",
       "    .dataframe tbody tr th:only-of-type {\n",
       "        vertical-align: middle;\n",
       "    }\n",
       "\n",
       "    .dataframe tbody tr th {\n",
       "        vertical-align: top;\n",
       "    }\n",
       "\n",
       "    .dataframe thead th {\n",
       "        text-align: right;\n",
       "    }\n",
       "</style>\n",
       "<table border=\"1\" class=\"dataframe\">\n",
       "  <thead>\n",
       "    <tr style=\"text-align: right;\">\n",
       "      <th></th>\n",
       "      <th>spin0</th>\n",
       "      <th>spin1</th>\n",
       "      <th>spin2</th>\n",
       "      <th>spin3</th>\n",
       "      <th>spin4</th>\n",
       "      <th>spin5</th>\n",
       "      <th>spin6</th>\n",
       "      <th>spin7</th>\n",
       "      <th>spin8</th>\n",
       "      <th>spin9</th>\n",
       "      <th>...</th>\n",
       "      <th>spin566</th>\n",
       "      <th>spin567</th>\n",
       "      <th>spin568</th>\n",
       "      <th>spin569</th>\n",
       "      <th>spin570</th>\n",
       "      <th>spin571</th>\n",
       "      <th>spin572</th>\n",
       "      <th>spin573</th>\n",
       "      <th>spin574</th>\n",
       "      <th>spin575</th>\n",
       "    </tr>\n",
       "  </thead>\n",
       "  <tbody>\n",
       "    <tr>\n",
       "      <th>0</th>\n",
       "      <td>-1</td>\n",
       "      <td>1</td>\n",
       "      <td>-1</td>\n",
       "      <td>1</td>\n",
       "      <td>-1</td>\n",
       "      <td>1</td>\n",
       "      <td>-1</td>\n",
       "      <td>1</td>\n",
       "      <td>-1</td>\n",
       "      <td>1</td>\n",
       "      <td>...</td>\n",
       "      <td>1</td>\n",
       "      <td>-1</td>\n",
       "      <td>1</td>\n",
       "      <td>-1</td>\n",
       "      <td>1</td>\n",
       "      <td>-1</td>\n",
       "      <td>1</td>\n",
       "      <td>-1</td>\n",
       "      <td>1</td>\n",
       "      <td>-1</td>\n",
       "    </tr>\n",
       "    <tr>\n",
       "      <th>1</th>\n",
       "      <td>1</td>\n",
       "      <td>-1</td>\n",
       "      <td>1</td>\n",
       "      <td>-1</td>\n",
       "      <td>1</td>\n",
       "      <td>-1</td>\n",
       "      <td>1</td>\n",
       "      <td>-1</td>\n",
       "      <td>1</td>\n",
       "      <td>-1</td>\n",
       "      <td>...</td>\n",
       "      <td>-1</td>\n",
       "      <td>1</td>\n",
       "      <td>-1</td>\n",
       "      <td>1</td>\n",
       "      <td>-1</td>\n",
       "      <td>1</td>\n",
       "      <td>-1</td>\n",
       "      <td>1</td>\n",
       "      <td>-1</td>\n",
       "      <td>1</td>\n",
       "    </tr>\n",
       "    <tr>\n",
       "      <th>2</th>\n",
       "      <td>-1</td>\n",
       "      <td>1</td>\n",
       "      <td>-1</td>\n",
       "      <td>1</td>\n",
       "      <td>-1</td>\n",
       "      <td>1</td>\n",
       "      <td>-1</td>\n",
       "      <td>1</td>\n",
       "      <td>-1</td>\n",
       "      <td>1</td>\n",
       "      <td>...</td>\n",
       "      <td>1</td>\n",
       "      <td>-1</td>\n",
       "      <td>1</td>\n",
       "      <td>-1</td>\n",
       "      <td>1</td>\n",
       "      <td>-1</td>\n",
       "      <td>1</td>\n",
       "      <td>-1</td>\n",
       "      <td>1</td>\n",
       "      <td>-1</td>\n",
       "    </tr>\n",
       "    <tr>\n",
       "      <th>3</th>\n",
       "      <td>1</td>\n",
       "      <td>-1</td>\n",
       "      <td>1</td>\n",
       "      <td>-1</td>\n",
       "      <td>1</td>\n",
       "      <td>-1</td>\n",
       "      <td>1</td>\n",
       "      <td>-1</td>\n",
       "      <td>1</td>\n",
       "      <td>-1</td>\n",
       "      <td>...</td>\n",
       "      <td>-1</td>\n",
       "      <td>1</td>\n",
       "      <td>-1</td>\n",
       "      <td>1</td>\n",
       "      <td>-1</td>\n",
       "      <td>1</td>\n",
       "      <td>-1</td>\n",
       "      <td>1</td>\n",
       "      <td>-1</td>\n",
       "      <td>1</td>\n",
       "    </tr>\n",
       "    <tr>\n",
       "      <th>4</th>\n",
       "      <td>-1</td>\n",
       "      <td>1</td>\n",
       "      <td>-1</td>\n",
       "      <td>1</td>\n",
       "      <td>-1</td>\n",
       "      <td>1</td>\n",
       "      <td>-1</td>\n",
       "      <td>1</td>\n",
       "      <td>-1</td>\n",
       "      <td>1</td>\n",
       "      <td>...</td>\n",
       "      <td>1</td>\n",
       "      <td>-1</td>\n",
       "      <td>1</td>\n",
       "      <td>-1</td>\n",
       "      <td>1</td>\n",
       "      <td>-1</td>\n",
       "      <td>1</td>\n",
       "      <td>-1</td>\n",
       "      <td>1</td>\n",
       "      <td>-1</td>\n",
       "    </tr>\n",
       "    <tr>\n",
       "      <th>...</th>\n",
       "      <td>...</td>\n",
       "      <td>...</td>\n",
       "      <td>...</td>\n",
       "      <td>...</td>\n",
       "      <td>...</td>\n",
       "      <td>...</td>\n",
       "      <td>...</td>\n",
       "      <td>...</td>\n",
       "      <td>...</td>\n",
       "      <td>...</td>\n",
       "      <td>...</td>\n",
       "      <td>...</td>\n",
       "      <td>...</td>\n",
       "      <td>...</td>\n",
       "      <td>...</td>\n",
       "      <td>...</td>\n",
       "      <td>...</td>\n",
       "      <td>...</td>\n",
       "      <td>...</td>\n",
       "      <td>...</td>\n",
       "      <td>...</td>\n",
       "    </tr>\n",
       "    <tr>\n",
       "      <th>79995</th>\n",
       "      <td>-1</td>\n",
       "      <td>-1</td>\n",
       "      <td>1</td>\n",
       "      <td>-1</td>\n",
       "      <td>1</td>\n",
       "      <td>1</td>\n",
       "      <td>-1</td>\n",
       "      <td>-1</td>\n",
       "      <td>-1</td>\n",
       "      <td>1</td>\n",
       "      <td>...</td>\n",
       "      <td>-1</td>\n",
       "      <td>-1</td>\n",
       "      <td>1</td>\n",
       "      <td>-1</td>\n",
       "      <td>1</td>\n",
       "      <td>-1</td>\n",
       "      <td>1</td>\n",
       "      <td>1</td>\n",
       "      <td>-1</td>\n",
       "      <td>-1</td>\n",
       "    </tr>\n",
       "    <tr>\n",
       "      <th>79996</th>\n",
       "      <td>-1</td>\n",
       "      <td>-1</td>\n",
       "      <td>-1</td>\n",
       "      <td>-1</td>\n",
       "      <td>-1</td>\n",
       "      <td>-1</td>\n",
       "      <td>1</td>\n",
       "      <td>1</td>\n",
       "      <td>-1</td>\n",
       "      <td>1</td>\n",
       "      <td>...</td>\n",
       "      <td>1</td>\n",
       "      <td>-1</td>\n",
       "      <td>1</td>\n",
       "      <td>1</td>\n",
       "      <td>-1</td>\n",
       "      <td>1</td>\n",
       "      <td>-1</td>\n",
       "      <td>-1</td>\n",
       "      <td>1</td>\n",
       "      <td>1</td>\n",
       "    </tr>\n",
       "    <tr>\n",
       "      <th>79997</th>\n",
       "      <td>1</td>\n",
       "      <td>1</td>\n",
       "      <td>1</td>\n",
       "      <td>1</td>\n",
       "      <td>1</td>\n",
       "      <td>1</td>\n",
       "      <td>-1</td>\n",
       "      <td>-1</td>\n",
       "      <td>1</td>\n",
       "      <td>-1</td>\n",
       "      <td>...</td>\n",
       "      <td>-1</td>\n",
       "      <td>1</td>\n",
       "      <td>-1</td>\n",
       "      <td>-1</td>\n",
       "      <td>1</td>\n",
       "      <td>-1</td>\n",
       "      <td>1</td>\n",
       "      <td>1</td>\n",
       "      <td>-1</td>\n",
       "      <td>-1</td>\n",
       "    </tr>\n",
       "    <tr>\n",
       "      <th>79998</th>\n",
       "      <td>1</td>\n",
       "      <td>1</td>\n",
       "      <td>1</td>\n",
       "      <td>-1</td>\n",
       "      <td>1</td>\n",
       "      <td>-1</td>\n",
       "      <td>1</td>\n",
       "      <td>1</td>\n",
       "      <td>1</td>\n",
       "      <td>-1</td>\n",
       "      <td>...</td>\n",
       "      <td>1</td>\n",
       "      <td>1</td>\n",
       "      <td>-1</td>\n",
       "      <td>1</td>\n",
       "      <td>-1</td>\n",
       "      <td>1</td>\n",
       "      <td>-1</td>\n",
       "      <td>1</td>\n",
       "      <td>1</td>\n",
       "      <td>-1</td>\n",
       "    </tr>\n",
       "    <tr>\n",
       "      <th>79999</th>\n",
       "      <td>-1</td>\n",
       "      <td>-1</td>\n",
       "      <td>-1</td>\n",
       "      <td>1</td>\n",
       "      <td>-1</td>\n",
       "      <td>1</td>\n",
       "      <td>-1</td>\n",
       "      <td>-1</td>\n",
       "      <td>-1</td>\n",
       "      <td>1</td>\n",
       "      <td>...</td>\n",
       "      <td>-1</td>\n",
       "      <td>-1</td>\n",
       "      <td>1</td>\n",
       "      <td>-1</td>\n",
       "      <td>1</td>\n",
       "      <td>-1</td>\n",
       "      <td>1</td>\n",
       "      <td>-1</td>\n",
       "      <td>-1</td>\n",
       "      <td>1</td>\n",
       "    </tr>\n",
       "  </tbody>\n",
       "</table>\n",
       "<p>80000 rows × 576 columns</p>\n",
       "</div>"
      ],
      "text/plain": [
       "       spin0  spin1  spin2  spin3  spin4  spin5  spin6  spin7  spin8  spin9  \\\n",
       "0         -1      1     -1      1     -1      1     -1      1     -1      1   \n",
       "1          1     -1      1     -1      1     -1      1     -1      1     -1   \n",
       "2         -1      1     -1      1     -1      1     -1      1     -1      1   \n",
       "3          1     -1      1     -1      1     -1      1     -1      1     -1   \n",
       "4         -1      1     -1      1     -1      1     -1      1     -1      1   \n",
       "...      ...    ...    ...    ...    ...    ...    ...    ...    ...    ...   \n",
       "79995     -1     -1      1     -1      1      1     -1     -1     -1      1   \n",
       "79996     -1     -1     -1     -1     -1     -1      1      1     -1      1   \n",
       "79997      1      1      1      1      1      1     -1     -1      1     -1   \n",
       "79998      1      1      1     -1      1     -1      1      1      1     -1   \n",
       "79999     -1     -1     -1      1     -1      1     -1     -1     -1      1   \n",
       "\n",
       "       ...  spin566  spin567  spin568  spin569  spin570  spin571  spin572  \\\n",
       "0      ...        1       -1        1       -1        1       -1        1   \n",
       "1      ...       -1        1       -1        1       -1        1       -1   \n",
       "2      ...        1       -1        1       -1        1       -1        1   \n",
       "3      ...       -1        1       -1        1       -1        1       -1   \n",
       "4      ...        1       -1        1       -1        1       -1        1   \n",
       "...    ...      ...      ...      ...      ...      ...      ...      ...   \n",
       "79995  ...       -1       -1        1       -1        1       -1        1   \n",
       "79996  ...        1       -1        1        1       -1        1       -1   \n",
       "79997  ...       -1        1       -1       -1        1       -1        1   \n",
       "79998  ...        1        1       -1        1       -1        1       -1   \n",
       "79999  ...       -1       -1        1       -1        1       -1        1   \n",
       "\n",
       "       spin573  spin574  spin575  \n",
       "0           -1        1       -1  \n",
       "1            1       -1        1  \n",
       "2           -1        1       -1  \n",
       "3            1       -1        1  \n",
       "4           -1        1       -1  \n",
       "...        ...      ...      ...  \n",
       "79995        1       -1       -1  \n",
       "79996       -1        1        1  \n",
       "79997        1       -1       -1  \n",
       "79998        1        1       -1  \n",
       "79999       -1       -1        1  \n",
       "\n",
       "[80000 rows x 576 columns]"
      ]
     },
     "execution_count": 17,
     "metadata": {},
     "output_type": "execute_result"
    }
   ],
   "source": [
    "data_f.iloc[:,:-1]"
   ]
  },
  {
   "cell_type": "code",
   "execution_count": null,
   "metadata": {},
   "outputs": [],
   "source": []
  }
 ],
 "metadata": {
  "interpreter": {
   "hash": "142c5f550c5dca9f67c8c920311c6ac8b8cbcb1ffb5f20302b2d142b28b10006"
  },
  "kernelspec": {
   "display_name": "ml_env",
   "language": "python",
   "name": "ml_env"
  },
  "language_info": {
   "codemirror_mode": {
    "name": "ipython",
    "version": 3
   },
   "file_extension": ".py",
   "mimetype": "text/x-python",
   "name": "python",
   "nbconvert_exporter": "python",
   "pygments_lexer": "ipython3",
   "version": "3.8.6"
  },
  "orig_nbformat": 4
 },
 "nbformat": 4,
 "nbformat_minor": 2
}
