{
 "cells": [
  {
   "cell_type": "code",
   "execution_count": 26,
   "metadata": {},
   "outputs": [],
   "source": [
    "import numpy as np\n",
    "import pandas as pd\n",
    "import torch\n",
    "import torch.nn as nn\n",
    "import torch.nn.functional as F \n",
    "import torch.optim as optim\n",
    "from torch.utils.data import Dataset, DataLoader\n",
    "\n"
   ]
  },
  {
   "cell_type": "code",
   "execution_count": 8,
   "metadata": {},
   "outputs": [
    {
     "name": "stdout",
     "output_type": "stream",
     "text": [
      "(80000, 577)\n"
     ]
    }
   ],
   "source": [
    "data_file = pd.read_csv(\n",
    "    '~/ml_J1-J2_supervised/all_phase/af/augumented_dataL24.csv', index_col=[0])\n",
    "print(data_file.shape)\n",
    "\n",
    "### set the device\n",
    "device = torch.device('cuda' if torch.cuda.is_available() else 'cpu')\n"
   ]
  },
  {
   "cell_type": "code",
   "execution_count": 62,
   "metadata": {},
   "outputs": [],
   "source": [
    "### class to load the dataloader \n",
    "### this allows to iterate over the dataset\n",
    "class Data_load(Dataset):\n",
    "    def __init__(self, data, L, device=device):\n",
    "        self.L = L\n",
    "        self.x_data = torch.tensor(data.iloc[:,:int(self.L**2)].values,dtype=torch.float32).to(device=device)\n",
    "        self.y_data = torch.tensor(data.iloc[:,int(self.L**2):].values,dtype=torch.long).to(device=device)\n",
    "        \n",
    "    def __len__(self):\n",
    "        return len(self.y_data)\n",
    "\n",
    "    def __getitem__(self,idx):\n",
    "        if torch.is_tensor(idx):\n",
    "            idx = idx.tolist()\n",
    "        image = self.x_data[idx,:]\n",
    "        label = self.y_data[idx]\n",
    "        return {'data':image,'lab':label}\n",
    "\n",
    "\n",
    "### defining the model that we want to use\n",
    "class model(nn.Module):\n",
    "    def __init__(self,input_size,num_input,num_output):\n",
    "        super(model,self).__init__()\n",
    "        self.fc1 = nn.Linear(input_size,num_input)\n",
    "        self.fc2 = nn.Linear(num_input,num_output)\n",
    "\n",
    "    def forward(self,x):\n",
    "        x=F.relu(self.fc1(x))\n",
    "        x=self.fc2(x)\n",
    "        return x        "
   ]
  },
  {
   "cell_type": "code",
   "execution_count": 63,
   "metadata": {},
   "outputs": [],
   "source": [
    "### set the parameters \n",
    "input_size = 576\n",
    "num_input = 50\n",
    "num_output = 2\n",
    "learning_rate = 0.001\n",
    "batch_size = 100\n",
    "num_epochs = 5"
   ]
  },
  {
   "cell_type": "code",
   "execution_count": 64,
   "metadata": {},
   "outputs": [],
   "source": [
    "## setting up the model\n",
    "model = model(input_size,num_input,num_output).to(device=device)\n",
    "\n",
    "## setting up the cost that one is trying to minimize\n",
    "criterion = nn.CrossEntropyLoss()\n",
    "\n",
    "## setting up the optimizer\n",
    "optimizer = optim.Adam(model.parameters(),lr=learning_rate)"
   ]
  },
  {
   "cell_type": "code",
   "execution_count": 65,
   "metadata": {},
   "outputs": [],
   "source": [
    "### creating an object of the class dataload\n",
    "train_data = Data_load(data_file, L=24, device=device)\n",
    "\n",
    "## creating a dataloader\n",
    "train_dataloader = DataLoader(train_data, batch_size=batch_size, shuffle=True)\n"
   ]
  },
  {
   "cell_type": "code",
   "execution_count": 67,
   "metadata": {},
   "outputs": [],
   "source": [
    "for ei in range(num_epochs):\n",
    "    for batch_idx,batch in enumerate(train_dataloader):\n",
    "        data = batch['data'].to(device=device)\n",
    "        target = batch['lab']\n",
    "        target = torch.reshape(target,(-1,)).to(device=device)\n",
    "        \n",
    "        \n",
    "        ## forward pass\n",
    "        predictions = model(data)\n",
    "\n",
    "        ## calculating the loss\n",
    "        loss = criterion(predictions,target)\n",
    "\n",
    "        ### setting all gradients to zero \n",
    "        optimizer.zero_grad()\n",
    "        loss.backward()\n",
    "\n",
    "        optimizer.step()\n"
   ]
  },
  {
   "cell_type": "code",
   "execution_count": null,
   "metadata": {},
   "outputs": [],
   "source": []
  },
  {
   "cell_type": "code",
   "execution_count": null,
   "metadata": {},
   "outputs": [],
   "source": []
  }
 ],
 "metadata": {
  "interpreter": {
   "hash": "31f2aee4e71d21fbe5cf8b01ff0e069b9275f58929596ceb00d14d90e3e16cd6"
  },
  "kernelspec": {
   "display_name": "Python 3.8.9 64-bit",
   "language": "python",
   "name": "python3"
  },
  "language_info": {
   "codemirror_mode": {
    "name": "ipython",
    "version": 3
   },
   "file_extension": ".py",
   "mimetype": "text/x-python",
   "name": "python",
   "nbconvert_exporter": "python",
   "pygments_lexer": "ipython3",
   "version": "3.8.6"
  },
  "orig_nbformat": 4
 },
 "nbformat": 4,
 "nbformat_minor": 2
}
